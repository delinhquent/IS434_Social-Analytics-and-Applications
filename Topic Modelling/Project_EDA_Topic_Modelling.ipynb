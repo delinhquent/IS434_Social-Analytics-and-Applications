{
  "nbformat": 4,
  "nbformat_minor": 0,
  "metadata": {
    "kernelspec": {
      "name": "python3",
      "display_name": "Python 3"
    },
    "language_info": {
      "codemirror_mode": {
        "name": "ipython",
        "version": 3
      },
      "file_extension": ".py",
      "mimetype": "text/x-python",
      "name": "python",
      "nbconvert_exporter": "python",
      "pygments_lexer": "ipython3",
      "version": "3.6.9"
    },
    "colab": {
      "name": "Project_EDA_Topic_Modelling.ipynb",
      "provenance": [],
      "collapsed_sections": [],
      "toc_visible": true
    },
    "accelerator": "TPU"
  },
  "cells": [
    {
      "cell_type": "code",
      "metadata": {
        "id": "4g3n_MTZmbw8",
        "colab_type": "code",
        "colab": {}
      },
      "source": [
        "import warnings\n",
        "warnings.filterwarnings('ignore')\n",
        "\n",
        "import pandas as pd\n",
        "import numpy as np\n",
        "\n",
        "import matplotlib.pyplot as plt\n"
      ],
      "execution_count": 0,
      "outputs": []
    },
    {
      "cell_type": "code",
      "metadata": {
        "id": "Hn6RFVvMYMcm",
        "colab_type": "code",
        "outputId": "211aef19-74db-4fac-c391-c9e1012140fe",
        "colab": {
          "base_uri": "https://localhost:8080/",
          "height": 359
        }
      },
      "source": [
        "topics = [[('rate', 81), ('check', 85), ('money', 95), ('today', 100), ('new', 103), ('fox', 104), ('day', 134),\n",
        " ('deal', 161), ('book', 174), ('save', 211)],\n",
        " [('destin', 178), ('vacat', 212), ('guid', 214), ('plan', 215), ('best', 226), ('check', 255), \n",
        "  ('trip', 271), ('famili', 305), ('tip', 375), ('travel', 850)],\n",
        "[('seri', 97), ('hybrid', 100), ('concept', 106), ('rang', 128), ('bmw', 144), ('electr', 152), ('model', 166),\n",
        " ('suv', 204), ('reveal', 255), ('new', 826)],\n",
        "[('check', 95), ('island', 95), ('drive', 101), ('beauti', 101), ('best', 108), ('hire', 139), ('explor', 148),\n",
        " ('road', 212), ('visit', 221), ('trip', 236)]]\n",
        "\n",
        "df = pd.DataFrame(columns=['Topic','Word','Count'])\n",
        "count = 0\n",
        "for i in range(len(topics)):\n",
        "    for word in topics[i]:\n",
        "        df.loc[count] = [i,word[0],word[1]]\n",
        "        count += 1\n",
        "df.head(10)"
      ],
      "execution_count": 2,
      "outputs": [
        {
          "output_type": "execute_result",
          "data": {
            "text/html": [
              "<div>\n",
              "<style scoped>\n",
              "    .dataframe tbody tr th:only-of-type {\n",
              "        vertical-align: middle;\n",
              "    }\n",
              "\n",
              "    .dataframe tbody tr th {\n",
              "        vertical-align: top;\n",
              "    }\n",
              "\n",
              "    .dataframe thead th {\n",
              "        text-align: right;\n",
              "    }\n",
              "</style>\n",
              "<table border=\"1\" class=\"dataframe\">\n",
              "  <thead>\n",
              "    <tr style=\"text-align: right;\">\n",
              "      <th></th>\n",
              "      <th>Topic</th>\n",
              "      <th>Word</th>\n",
              "      <th>Count</th>\n",
              "    </tr>\n",
              "  </thead>\n",
              "  <tbody>\n",
              "    <tr>\n",
              "      <th>0</th>\n",
              "      <td>0</td>\n",
              "      <td>rate</td>\n",
              "      <td>81</td>\n",
              "    </tr>\n",
              "    <tr>\n",
              "      <th>1</th>\n",
              "      <td>0</td>\n",
              "      <td>check</td>\n",
              "      <td>85</td>\n",
              "    </tr>\n",
              "    <tr>\n",
              "      <th>2</th>\n",
              "      <td>0</td>\n",
              "      <td>money</td>\n",
              "      <td>95</td>\n",
              "    </tr>\n",
              "    <tr>\n",
              "      <th>3</th>\n",
              "      <td>0</td>\n",
              "      <td>today</td>\n",
              "      <td>100</td>\n",
              "    </tr>\n",
              "    <tr>\n",
              "      <th>4</th>\n",
              "      <td>0</td>\n",
              "      <td>new</td>\n",
              "      <td>103</td>\n",
              "    </tr>\n",
              "    <tr>\n",
              "      <th>5</th>\n",
              "      <td>0</td>\n",
              "      <td>fox</td>\n",
              "      <td>104</td>\n",
              "    </tr>\n",
              "    <tr>\n",
              "      <th>6</th>\n",
              "      <td>0</td>\n",
              "      <td>day</td>\n",
              "      <td>134</td>\n",
              "    </tr>\n",
              "    <tr>\n",
              "      <th>7</th>\n",
              "      <td>0</td>\n",
              "      <td>deal</td>\n",
              "      <td>161</td>\n",
              "    </tr>\n",
              "    <tr>\n",
              "      <th>8</th>\n",
              "      <td>0</td>\n",
              "      <td>book</td>\n",
              "      <td>174</td>\n",
              "    </tr>\n",
              "    <tr>\n",
              "      <th>9</th>\n",
              "      <td>0</td>\n",
              "      <td>save</td>\n",
              "      <td>211</td>\n",
              "    </tr>\n",
              "  </tbody>\n",
              "</table>\n",
              "</div>"
            ],
            "text/plain": [
              "  Topic   Word Count\n",
              "0     0   rate    81\n",
              "1     0  check    85\n",
              "2     0  money    95\n",
              "3     0  today   100\n",
              "4     0    new   103\n",
              "5     0    fox   104\n",
              "6     0    day   134\n",
              "7     0   deal   161\n",
              "8     0   book   174\n",
              "9     0   save   211"
            ]
          },
          "metadata": {
            "tags": []
          },
          "execution_count": 2
        }
      ]
    },
    {
      "cell_type": "code",
      "metadata": {
        "id": "sXd7r-a3mbxF",
        "colab_type": "code",
        "outputId": "2a500ab0-fbee-4a23-dd08-42bc1497cd90",
        "colab": {
          "base_uri": "https://localhost:8080/",
          "height": 559
        }
      },
      "source": [
        "fig = plt.figure(figsize=(20, 8))\n",
        "\n",
        "ax1 = fig.add_subplot(1,1,1)\n",
        "# fig.subplots_adjust(hspace=0.5)\n",
        "# count = 0\n",
        "for i in list(set(list(df['Topic']))):\n",
        "    current_df = df[df['Topic'] == i]\n",
        "    if i == 0:\n",
        "        title = \"First Topic\"\n",
        "    elif i == 1:\n",
        "        title = \"Second Topic\"\n",
        "    elif i == 2:\n",
        "        title = \"Third Topic\"\n",
        "    else:\n",
        "        title = \"Fourth Topic\"\n",
        "    current_df.plot(kind='bar', x='Word', y='Count', ax=ax1)\n",
        "    ax1.set_ylabel(\"No. of Words\",fontsize=16)\n",
        "    ax1.set_xlabel(\"Words\",fontsize=16)\n",
        "    ax1.set_title(title,fontsize=20)\n",
        "    ax1.legend(['No. of Words'])\n",
        "    ax1.set_xticklabels(ax1.get_xticklabels(), rotation=0,fontsize=26)\n",
        "    plt.savefig('Topic'+str(i+1) + '.png')"
      ],
      "execution_count": 3,
      "outputs": [
        {
          "output_type": "display_data",
          "data": {
            "image/png": "[encoded data removed]",
            "text/plain": [
              "<Figure size 1440x576 with 1 Axes>"
            ]
          },
          "metadata": {
            "tags": []
          }
        }
      ]
    }
  ]
}